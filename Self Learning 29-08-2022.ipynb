{
  "nbformat": 4,
  "nbformat_minor": 0,
  "metadata": {
    "colab": {
      "provenance": [],
      "collapsed_sections": [],
      "authorship_tag": "ABX9TyPcfY2bgUj3xfwCxWmgbKAY",
      "include_colab_link": true
    },
    "kernelspec": {
      "name": "python3",
      "display_name": "Python 3"
    },
    "language_info": {
      "name": "python"
    }
  },
  "cells": [
    {
      "cell_type": "markdown",
      "metadata": {
        "id": "view-in-github",
        "colab_type": "text"
      },
      "source": [
        "<a href=\"https://colab.research.google.com/github/Erikayyy/Self-Learnig-MSIB-Orbit/blob/main/Self%20Learning%2029-08-2022.ipynb\" target=\"_parent\"><img src=\"https://colab.research.google.com/assets/colab-badge.svg\" alt=\"Open In Colab\"/></a>"
      ]
    },
    {
      "cell_type": "markdown",
      "source": [
        "\n",
        "\n",
        "---\n",
        "\n",
        "A. Kubus\n",
        "\n",
        "---\n",
        "\n"
      ],
      "metadata": {
        "id": "JKGEI5gYM6Sb"
      }
    },
    {
      "cell_type": "code",
      "execution_count": null,
      "metadata": {
        "colab": {
          "base_uri": "https://localhost:8080/"
        },
        "id": "J03qz3aOMJ08",
        "outputId": "9fc0ee3b-0f50-41a6-c625-530abc62cbe7"
      },
      "outputs": [
        {
          "output_type": "stream",
          "name": "stdout",
          "text": [
            "mencari luas kubus\n",
            "\n",
            "masukan nilai panjang rusuk : 7\n",
            "hasil :  294\n"
          ]
        }
      ],
      "source": [
        "#mencari luas kubus\n",
        "#rumus 6 x r x r\n",
        "\n",
        "print(\"mencari luas kubus\\n\")\n",
        "\n",
        "r = int(input(\"masukan nilai panjang rusuk : \"))\n",
        "\n",
        "luas  = 6 * r * r\n",
        "\n",
        "print(\"hasil : \",luas)"
      ]
    },
    {
      "cell_type": "code",
      "source": [
        "#mencari keliling kubus\n",
        "#rumus r x r x r\n",
        "\n",
        "print(\"mencari keliling kubus\\n\")\n",
        "\n",
        "r = int(input(\"masukan nilai panjang rusuk : \"))\n",
        "\n",
        "keliling  = r * r * r\n",
        "\n",
        "print(\"hasil : \",keliling)"
      ],
      "metadata": {
        "colab": {
          "base_uri": "https://localhost:8080/"
        },
        "id": "PRWyVLUYM-g-",
        "outputId": "0cc32cd0-5911-4265-c4ed-5b810bbc7669"
      },
      "execution_count": null,
      "outputs": [
        {
          "output_type": "stream",
          "name": "stdout",
          "text": [
            "mencari keliling kubus\n",
            "\n",
            "masukan nilai panjang rusuk : 5\n",
            "hasil :  125\n"
          ]
        }
      ]
    },
    {
      "cell_type": "code",
      "source": [
        "#mencari luas balok\n",
        "#rumus 2 x (pxl + pxt + lxt)\n",
        "\n",
        "print(\"mencari luas balok\\n\")\n",
        "\n",
        "p = int(input(\"masukan nilai panjang : \"))\n",
        "l = int(input(\"masukan nilai luas : \"))\n",
        "t = int(input(\"masukan nilai tinggi : \"))\n",
        "\n",
        "luas  = 2 * (p * l + p * t + l * t)\n",
        "\n",
        "print(\"hasil : \",luas)"
      ],
      "metadata": {
        "colab": {
          "base_uri": "https://localhost:8080/"
        },
        "id": "Aic_VBWrNISV",
        "outputId": "2cf47cb9-cc26-4a5d-e92c-93a35a4abc62"
      },
      "execution_count": null,
      "outputs": [
        {
          "output_type": "stream",
          "name": "stdout",
          "text": [
            "mencari luas balok\n",
            "\n",
            "masukan nilai panjang : 4\n",
            "masukan nilai luas : 7\n",
            "masukan nilai tinggi : 4\n",
            "hasil :  144\n"
          ]
        }
      ]
    },
    {
      "cell_type": "code",
      "source": [
        "#mencari keliling balok\n",
        "#rumus p x l x t\n",
        "\n",
        "print(\"mencari keliling balok\\n\")\n",
        "p = int(input(\"masukan nilai panjang : \"))\n",
        "l = int(input(\"masukan nilai luas : \"))\n",
        "t = int(input(\"masukan nilai tinggi : \"))\n",
        "\n",
        "keliling  = p * l * t\n",
        "\n",
        "print(\"hasil : \",keliling)"
      ],
      "metadata": {
        "colab": {
          "base_uri": "https://localhost:8080/"
        },
        "id": "kYzUNu7mNlNh",
        "outputId": "fed604b1-9fd4-4a70-ab9f-940590720e26"
      },
      "execution_count": null,
      "outputs": [
        {
          "output_type": "stream",
          "name": "stdout",
          "text": [
            "mencari keliling balok\n",
            "\n",
            "masukan nilai panjang : 7\n",
            "masukan nilai luas : 9\n",
            "masukan nilai tinggi : 3\n",
            "hasil :  189\n"
          ]
        }
      ]
    },
    {
      "cell_type": "code",
      "source": [
        "#mencari luas tabung\n",
        "#rumus 2 x phi x r x (t + r)\n",
        "\n",
        "print(\"mencari luas tabung\\n\")\n",
        "\n",
        "t = int(input(\"masukan nilai tinggi : \"))\n",
        "r = int(input(\"masukan nilai jari jari : \"))\n",
        "phi = 3.14\n",
        "\n",
        "luas  = 2 * phi * r * (t + r)\n",
        "\n",
        "print(\"hasil : \",luas)"
      ],
      "metadata": {
        "colab": {
          "base_uri": "https://localhost:8080/"
        },
        "id": "sbLtzpspN8h0",
        "outputId": "6de5acd2-c9fd-40e8-ec67-8aeb9450c6c6"
      },
      "execution_count": null,
      "outputs": [
        {
          "output_type": "stream",
          "name": "stdout",
          "text": [
            "mencari luas tabung\n",
            "\n",
            "masukan nilai tinggi : 6\n",
            "masukan nilai jari jari : 4\n",
            "hasil :  251.20000000000002\n"
          ]
        }
      ]
    },
    {
      "cell_type": "code",
      "source": [
        "#mencari keliling tabung\n",
        "#rumus phi x r x r x t\n",
        "\n",
        "print(\"mencari keliling tabung\\n\")\n",
        "\n",
        "t = int(input(\"masukan nilai tinggi : \"))\n",
        "r = int(input(\"masukan nilai jari jari : \"))\n",
        "phi = 3.14\n",
        "\n",
        "keliling  = phi * r * r * t\n",
        "\n",
        "print(\"hasil : \",keliling)"
      ],
      "metadata": {
        "colab": {
          "base_uri": "https://localhost:8080/"
        },
        "id": "6m2E9XtOOHz0",
        "outputId": "8877d4e0-a09f-4803-c1c9-7afc6d6389cb"
      },
      "execution_count": null,
      "outputs": [
        {
          "output_type": "stream",
          "name": "stdout",
          "text": [
            "mencari keliling tabung\n",
            "\n",
            "masukan nilai tinggi : 5\n",
            "masukan nilai jari jari : 7\n",
            "hasil :  769.3000000000001\n"
          ]
        }
      ]
    }
  ]
}